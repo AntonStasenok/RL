{
 "cells": [
  {
   "cell_type": "code",
   "execution_count": 1,
   "metadata": {},
   "outputs": [],
   "source": [
    "import gym\n",
    "from gym import envs\n",
    "import numpy as np\n",
    "import matplotlib\n",
    "import matplotlib.pyplot as plt\n",
    "from mpl_toolkits.mplot3d import Axes3D\n",
    "import matplotlib as mpl\n",
    "from matplotlib import cm\n",
    "from collections import defaultdict\n",
    "from IPython.display import clear_output\n",
    "%matplotlib inline"
   ]
  },
  {
   "cell_type": "code",
   "execution_count": 2,
   "metadata": {},
   "outputs": [],
   "source": [
    "env = gym.make('Blackjack-v0')"
   ]
  },
  {
   "cell_type": "markdown",
   "metadata": {},
   "source": [
    "## I. Рассмотрим очень простую стратегию: говорить stand, если у нас на руках комбинация в 19, 20 или 21 очко, во всех остальных случаях говорить hit. Используйте методы Монте-Карло, чтобы оценить выигрыш от этой стратегии."
   ]
  },
  {
   "cell_type": "code",
   "execution_count": 276,
   "metadata": {},
   "outputs": [],
   "source": [
    "def draw_till_19_pol(obs):\n",
    "    return [1,0] if obs[0]>=19 else [0,1]\n",
    "\n",
    "def calc_payoffs(env,rounds,pol):\n",
    "\n",
    "    average_payouts = []\n",
    "    rd = 1\n",
    "    total_payout = 0\n",
    "    while rd <= rounds:\n",
    "        is_done = False\n",
    "        while not is_done:\n",
    "            action = np.argmax(pol(env._get_obs()))\n",
    "            obs, payout, is_done, _ = env.step(action)\n",
    "            if is_done:\n",
    "                total_payout += payout\n",
    "                env.reset() # Сбросить окружение и раздать новые карты игроку и дилеру\n",
    "                rd += 1\n",
    "                average_payouts.append(total_payout / rd)\n",
    "\n",
    "    plt.plot(average_payouts[1000:])                \n",
    "    plt.xlabel('num_rounds')\n",
    "    plt.ylabel('average payout')\n",
    "    plt.show()    \n",
    "    print (\"Average payout of a player after {} rounds is {}\".format(rounds, average_payouts[-1]))"
   ]
  },
  {
   "cell_type": "code",
   "execution_count": 8,
   "metadata": {},
   "outputs": [
    {
     "data": {
      "image/png": "[encoded data removed]",
      "text/plain": [
       "<Figure size 432x288 with 1 Axes>"
      ]
     },
     "metadata": {
      "needs_background": "light"
     },
     "output_type": "display_data"
    },
    {
     "name": "stdout",
     "output_type": "stream",
     "text": [
      "Average payout of a player after 100000 rounds is -0.17355826441735583\n"
     ]
    }
   ],
   "source": [
    "env = gym.make('Blackjack-v0', natural = True)\n",
    "env.reset()\n",
    "calc_payoffs(env,100000,draw_till_19_pol)"
   ]
  },
  {
   "cell_type": "markdown",
   "metadata": {},
   "source": [
    "## В среднем простая стратегия дает проигрыш 17%, то есть казино примерно в 1,5 раза чаще выгрывает, чем стратегия выигрывает или играет в ничью. "
   ]
  },
  {
   "cell_type": "markdown",
   "metadata": {},
   "source": [
    "## Реализуйте метод обучения с подкреплением без модели (можно Q-обучение, но рекомендую попробовать и другие, например Monte Carlo control) для обучения стратегии в блекджеке, используя окружение Blackjack-v0 из OpenAI Gym."
   ]
  },
  {
   "cell_type": "markdown",
   "metadata": {},
   "source": [
    "## 1. Создадим on-policy Monte Carlo Control"
   ]
  },
  {
   "cell_type": "code",
   "execution_count": 20,
   "metadata": {},
   "outputs": [],
   "source": [
    "def create_epsilon_greedy_action_policy(env,Q,epsilon):\n",
    "    \"\"\" Создание эпсилон жадной стратегии\n",
    "    Args:\n",
    "        env: Environment\n",
    "        Q: Q table\n",
    "        epsilon: Probability of selecting random action instead of the 'optimal' action \n",
    "    Returns:\n",
    "        Epsilon-greedy-action Policy function with Probabilities of each action for each state\n",
    "    \"\"\"\n",
    "    def policy(obs):\n",
    "        nA = env.action_space.n\n",
    "        P = np.ones(nA, dtype=float) * epsilon / nA  #инициализируем одинаковые вероятности для всех действий\n",
    "        best_action = np.argmax(Q[obs])  #выбираем наилучшее действие\n",
    "        P[best_action] = 1.0 - epsilon + (epsilon / nA)\n",
    "        return P\n",
    "    return policy"
   ]
  },
  {
   "cell_type": "code",
   "execution_count": 21,
   "metadata": {},
   "outputs": [],
   "source": [
    "def On_pol_mc_control_learn(env, episodes, discount_factor, epsilon):\n",
    "    \"\"\"\n",
    "    On-policy Monte Carlo Control, оптимизирующая эпсилон-жадную стратегию.   \n",
    "    Args:\n",
    "        env: Environment.\n",
    "        episodes: Number of episodes to sample.\n",
    "        discount_factor: Gamma discount factor.\n",
    "        epsilon: Chance the sample a random action. Float betwen 0 and 1.    \n",
    "    Returns:\n",
    "        A tuple (Q, policy).\n",
    "        Q is a dictionary mapping state to action values.\n",
    "        Policy is the trained policy that returns action probabilities\n",
    "    \"\"\"\n",
    "    # Зафиксируем путь вознаграждений из каждого состояния и количество вхождений в каждое состояние\n",
    "    returns_sum = defaultdict(float)\n",
    "    returns_count = defaultdict(float)\n",
    "    \n",
    "    # Словарь для фиксации action-value function.\n",
    "    Q = defaultdict(lambda: np.zeros(env.action_space.n))\n",
    "    \n",
    "    # Оптимизируемая эпсилон - жадная стратегия\n",
    "    pol = create_epsilon_greedy_action_policy(env,Q,epsilon)\n",
    "    \n",
    "    for i in range(1, episodes + 1):\n",
    "        # Выводим счетчик эпизодов\n",
    "        if i% 1000 == 0:\n",
    "            print(\"\\rEpisode {}/{}.\".format(i, episodes), end=\"\")\n",
    "            clear_output(wait=True)\n",
    "\n",
    "        # Сгененрируем эпизод\n",
    "        episode = []\n",
    "        state = env.reset()\n",
    "        is_done = False\n",
    "        while not is_done:\n",
    "            probs = pol(state) # берем вероятности сделать активность по стратегии \n",
    "            action = np.random.choice(np.arange(len(probs)), p=probs)\n",
    "            next_state, reward, is_done, _ = env.step(action)\n",
    "            episode.append((state, action, reward))\n",
    "            state = next_state\n",
    "\n",
    "        # Находим все пары (состояние, действие), в которых мы были в данном эпизоде\n",
    "        sa_in_episode = set([(tuple(x[0]), x[1]) for x in episode])\n",
    "        for state, action in sa_in_episode:\n",
    "            sa_pair = (state, action)\n",
    "            #First Visit MC:\n",
    "            # Определяем первое появление пары (состояние, действие) в данном эпизоде\n",
    "            first_occurence_idx = next(i for i,x in enumerate(episode)\n",
    "                                       if x[0] == state and x[1] == action)\n",
    "            # Суммируем дисконтированные награды с момента первого появления в эпизоде\n",
    "            G = sum([x[2]*(discount_factor**i) for i,x in enumerate(episode[first_occurence_idx:])])\n",
    "            # Посчитаем среднее значение вознаграждений для конкретной пары (состояние, действие) по всем эпизодам\n",
    "            returns_sum[sa_pair] += G\n",
    "            returns_count[sa_pair] += 1.0\n",
    "            Q[state][action] = returns_sum[sa_pair] / returns_count[sa_pair]\n",
    "    \n",
    "    return Q, pol"
   ]
  },
  {
   "cell_type": "code",
   "execution_count": 31,
   "metadata": {},
   "outputs": [
    {
     "name": "stdout",
     "output_type": "stream",
     "text": [
      "\r",
      "Episode 1000000/1000000."
     ]
    }
   ],
   "source": [
    "env = gym.make('Blackjack-v0')\n",
    "env.reset()\n",
    "Q_on_pol,On_MC_Learned_Policy = On_pol_mc_control_learn(env, 1000000, 0.9, 0.05)"
   ]
  },
  {
   "cell_type": "code",
   "execution_count": 32,
   "metadata": {},
   "outputs": [
    {
     "data": {
      "image/png": "[encoded data removed]",
      "text/plain": [
       "<Figure size 432x288 with 1 Axes>"
      ]
     },
     "metadata": {
      "needs_background": "light"
     },
     "output_type": "display_data"
    },
    {
     "name": "stdout",
     "output_type": "stream",
     "text": [
      "Average payout of a player after 100000 rounds is -0.05165948340516595\n"
     ]
    }
   ],
   "source": [
    "env.reset()\n",
    "calc_payoffs(env,100000,On_MC_Learned_Policy)"
   ]
  },
  {
   "cell_type": "markdown",
   "metadata": {},
   "source": [
    "## В среднем on-policy Monte Carlo Control стратегия дает проигрыш 5%, то есть казино примерно в 1,15 раза чаще выгрывает, чем стратегия выигрывает или играет в ничью. "
   ]
  },
  {
   "cell_type": "markdown",
   "metadata": {},
   "source": [
    "## 2. Создадим off-policy Monte Carlo Control с инкрементальным обновлением искомых функций"
   ]
  },
  {
   "cell_type": "code",
   "execution_count": 24,
   "metadata": {},
   "outputs": [],
   "source": [
    "def create_random_policy(nA):\n",
    "    \"\"\"\n",
    "    Создадим стратегию с одинаковыми вероятностями выбора действий \n",
    "    Args:\n",
    "        nA: Number of actions in the environment.   \n",
    "    Returns:\n",
    "        A function that takes an observation state as input and returns a vector\n",
    "        of action probabilities\n",
    "    \"\"\"\n",
    "    A = np.ones(nA, dtype=float) / nA\n",
    "    def policy_fn(obs):\n",
    "        return A\n",
    "    return policy_fn\n",
    "\n",
    "def create_greedy_action_policy(env,Q):\n",
    "    \"\"\" Создадим жадную стратегию\n",
    "    Args:\n",
    "        env: Environment\n",
    "        Q: Q table \n",
    "    Returns:\n",
    "        Greedy-action Policy function \n",
    "    \"\"\"\n",
    "    def policy(obs):\n",
    "        P = np.zeros_like(Q[obs], dtype=float)\n",
    "        best_action = np.argmax(Q[obs])  #get best action\n",
    "        P[best_action] = 1\n",
    "        return P\n",
    "    return policy\n",
    "\n",
    "def Off_pol_mc_control_learn(env, num_episodes, policy, discount_factor):\n",
    "    \"\"\"\n",
    "    Monte Carlo Control Off-Policy Control, оптимизирующая жадную стратегию, используя Weighted Importance Sampling.  \n",
    "    Args:\n",
    "        env: Environment.\n",
    "        num_episodes: Number of episodes to sample.\n",
    "        policy: The policy to follow while generating episodes.\n",
    "            A function that given an observation returns a vector of probabilities for each action.\n",
    "        discount_factor: Gamma discount factor.  \n",
    "    Returns:\n",
    "        A tuple (Q, policy).\n",
    "        Q is a dictionary mapping state -> action values.\n",
    "        policy is a function that takes an observation as an argument and returns\n",
    "        action probabilities. This is the optimal greedy policy.\n",
    "    \"\"\"\n",
    "\n",
    "    Q = defaultdict(lambda: np.zeros(env.action_space.n))\n",
    "    # Знаменатель в формуле weighted importance sampling\n",
    "    C = defaultdict(lambda: np.zeros(env.action_space.n))\n",
    "    \n",
    "    # Жадная стратегия\n",
    "    target_policy = create_greedy_action_policy(env,Q)\n",
    "        \n",
    "    for i_episode in range(1, num_episodes + 1):\n",
    "        if i_episode % 1000 == 0:\n",
    "            print(\"\\rEpisode {}/{}.\".format(i_episode, num_episodes), end=\"\")\n",
    "            clear_output(wait=True)\n",
    "\n",
    "        episode = []\n",
    "        state = env.reset()\n",
    "        for t in range(100):\n",
    "            # Выбираем действие по случайной стратегии\n",
    "            probs = policy(state)\n",
    "            action = np.random.choice(np.arange(len(probs)), p=probs)\n",
    "            next_state, reward, done, _ = env.step(action)\n",
    "            episode.append((state, action, reward))\n",
    "            if done:\n",
    "                break\n",
    "            state = next_state\n",
    "        \n",
    "        # Дисконтированные награды\n",
    "        G = 0.0\n",
    "        # Вес для наград\n",
    "        W = 1.0\n",
    "        # Двигаемся с конца эпизода\n",
    "        for t in range(len(episode))[::-1]:\n",
    "            state, action, reward = episode[t]\n",
    "            # Обновялем суммарные награды\n",
    "            G = discount_factor * G + reward\n",
    "            # Обновляем знаменатель в формуле weighted importance sampling\n",
    "            C[state][action] += W\n",
    "            # Обновляем инкрементально функуию action-value \n",
    "            Q[state][action] += (W / C[state][action]) * (G - Q[state][action])\n",
    "            # Если действие по случайной стратегии не совпадает с действию по целевой, то останавливаем расчет \n",
    "            if action !=  np.argmax(target_policy(state)):\n",
    "                break\n",
    "            W = W * 1./policy(state)[action]\n",
    "        \n",
    "    return Q, target_policy"
   ]
  },
  {
   "cell_type": "code",
   "execution_count": 29,
   "metadata": {},
   "outputs": [
    {
     "name": "stdout",
     "output_type": "stream",
     "text": [
      "\r",
      "Episode 1000000/1000000."
     ]
    }
   ],
   "source": [
    "env = gym.make('Blackjack-v0')\n",
    "env.reset()\n",
    "rand = create_random_policy(env.action_space.n)\n",
    "Q_off_Pol,off_MC_Learned_Policy = Off_pol_mc_control_learn(env, 1000000, rand,0.9)"
   ]
  },
  {
   "cell_type": "code",
   "execution_count": 30,
   "metadata": {},
   "outputs": [
    {
     "data": {
      "image/png": "[encoded data removed]",
      "text/plain": [
       "<Figure size 432x288 with 1 Axes>"
      ]
     },
     "metadata": {
      "needs_background": "light"
     },
     "output_type": "display_data"
    },
    {
     "name": "stdout",
     "output_type": "stream",
     "text": [
      "Average payout of a player after 100000 rounds is -0.045379546204537956\n"
     ]
    }
   ],
   "source": [
    "env.reset()\n",
    "calc_payoffs(env,100000,off_MC_Learned_Policy)"
   ]
  },
  {
   "cell_type": "markdown",
   "metadata": {},
   "source": [
    "## В среднем off-policy Monte Carlo Control стратегия дает проигрыш 4.5%, то есть казино примерно в 1,12 раза чаще выгрывает, чем стратегия выигрывает или играет в ничью. "
   ]
  },
  {
   "cell_type": "markdown",
   "metadata": {},
   "source": [
    "## 3. Создадим SARSA: on-policy TD Control"
   ]
  },
  {
   "cell_type": "code",
   "execution_count": 103,
   "metadata": {},
   "outputs": [],
   "source": [
    "def create_epsilon_greedy_action_policy(env,Q,epsilon):\n",
    "    \"\"\" Создадим эпсилон-жадную стратегию\n",
    "    Args:\n",
    "        env: Environment\n",
    "        Q: Q table\n",
    "        epsilon: Probability of selecting random action instead of the 'optimal' action\n",
    "    Returns:\n",
    "        Epsilon-greedy-action Policy function with Probabilities of each action for each state\n",
    "    \"\"\"\n",
    "    def policy(obs):\n",
    "        P = np.ones(env.action_space.n, dtype=float) * epsilon / env.action_space.n\n",
    "        best_action = np.argmax(Q[obs])  \n",
    "        P[best_action] += (1.0 - epsilon)\n",
    "        return P\n",
    "    return policy\n",
    "\n",
    "def SARSA(env, episodes, epsilon, alpha, gamma):\n",
    "    \"\"\"\n",
    "    SARSA Learning Method\n",
    "    Args:\n",
    "        env: Environment\n",
    "        episodes: Number of episodes to sample.\n",
    "        epsilon: Probability of selecting random action instead of the 'optimal' action\n",
    "        alpha: Learning Rate\n",
    "        gamma: Gamma discount factor    \n",
    "    Returns:\n",
    "        A tuple (Q, policy).\n",
    "        Q is a dictionary mapping state -> action values.\n",
    "        policy is a function that takes an observation as an argument and returns\n",
    "        action probabilities. \n",
    "    \"\"\"\n",
    "    \n",
    "    Q = defaultdict(lambda: np.zeros(env.action_space.n))\n",
    "    for i in range(1, episodes + 1):\n",
    "        if i% 1000 == 0:\n",
    "            print(\"\\rEpisode {}/{}.\".format(i, episodes), end=\"\")\n",
    "            clear_output(wait=True)\n",
    "        eps = max(1.0 / i, epsilon) # сокращам эпсилон со временем, чтобы прийти к жадной стратегии\n",
    "        curr_state = env.reset()\n",
    "        probs = create_epsilon_greedy_action_policy(env,Q,eps)(curr_state)\n",
    "        curr_act = np.random.choice(np.arange(len(probs)), p=probs)\n",
    "        while True:\n",
    "            next_state,reward,done,_ = env.step(curr_act)\n",
    "            if not done: # Обновляем функцию Q с учетом следующего (состояния, действия), если игра не завершена\n",
    "                next_probs = create_epsilon_greedy_action_policy(env,Q,eps)(next_state)\n",
    "                next_act = np.random.choice(np.arange(len(next_probs)),p=next_probs)\n",
    "                td_target = reward + gamma * Q[next_state][next_act]\n",
    "                td_error = td_target - Q[curr_state][curr_act]\n",
    "                Q[curr_state][curr_act] = Q[curr_state][curr_act] + alpha * td_error\n",
    "                curr_state = next_state\n",
    "                curr_act = next_act\n",
    "            if done: # Обновляем функцию Q только с учетом награды, если игра завершена\n",
    "                td_error = reward - Q[curr_state][curr_act]\n",
    "                Q[curr_state][curr_act] = Q[curr_state][curr_act] + alpha * td_error\n",
    "                break\n",
    "            \n",
    "    return Q, create_epsilon_greedy_action_policy(env,Q,eps)"
   ]
  },
  {
   "cell_type": "code",
   "execution_count": 111,
   "metadata": {},
   "outputs": [
    {
     "name": "stdout",
     "output_type": "stream",
     "text": [
      "\r",
      "Episode 1000000/1000000."
     ]
    }
   ],
   "source": [
    "env = gym.make('Blackjack-v0')\n",
    "env.reset()\n",
    "Q_SARSA,SARSA_Policy = SARSA(env, 1000000, 0.01, 0.009,1)"
   ]
  },
  {
   "cell_type": "code",
   "execution_count": 112,
   "metadata": {},
   "outputs": [
    {
     "data": {
      "image/png": "[encoded data removed]",
      "text/plain": [
       "<Figure size 432x288 with 1 Axes>"
      ]
     },
     "metadata": {
      "needs_background": "light"
     },
     "output_type": "display_data"
    },
    {
     "name": "stdout",
     "output_type": "stream",
     "text": [
      "Average payout of a player after 100000 rounds is -0.053559464405355944\n"
     ]
    }
   ],
   "source": [
    "env.reset()\n",
    "calc_payoffs(env,100000,SARSA_Policy)"
   ]
  },
  {
   "cell_type": "markdown",
   "metadata": {},
   "source": [
    "## В среднем SARSA: on-policy TD Control стратегия дает проигрыш 5%, то есть казино примерно в 1,15 раза чаще выгрывает, чем стратегия выигрывает или играет в ничью. "
   ]
  },
  {
   "cell_type": "markdown",
   "metadata": {},
   "source": [
    "## 3. Создадим Q-Learning: off-policy TD Control"
   ]
  },
  {
   "cell_type": "code",
   "execution_count": 113,
   "metadata": {},
   "outputs": [],
   "source": [
    "def off_pol_TD_Q_learn(env, episodes, epsilon, alpha, gamma):\n",
    "    \"\"\"\n",
    "    Off-Policy TD Q-Learning Method\n",
    "    Args:\n",
    "        env: OpenAI gym environment.\n",
    "        episodes: Number of episodes to sample.\n",
    "        epsilon: Probability of selecting random action instead of the 'optimal' action\n",
    "        alpha: Learning Rate\n",
    "        gamma: Gamma discount factor\n",
    "    Returns:\n",
    "        A tuple (Q, policy).\n",
    "        Q is a dictionary mapping state -> action values.\n",
    "        policy is a function that takes an observation as an argument and returns\n",
    "        action probabilities. \n",
    "    \"\"\"\n",
    "    Q = defaultdict(lambda: np.zeros(env.action_space.n))\n",
    "    for i in range(1, episodes + 1):\n",
    "        if i% 1000 == 0:\n",
    "            print(\"\\rEpisode {}/{}.\".format(i, episodes), end=\"\")\n",
    "            clear_output(wait=True)\n",
    "        eps = max(1.0 / i, epsilon) # сокращам эпсилон со временем, чтобы прийти к жадной стратегии\n",
    "        curr_state = env.reset()\n",
    "        while True:\n",
    "            probs = create_epsilon_greedy_action_policy(env,Q,eps)(curr_state)\n",
    "            curr_act = np.random.choice(np.arange(len(probs)), p=probs)\n",
    "            next_state,reward,done,_ = env.step(curr_act)\n",
    "            if not done: # Обновляем функцию жадно Q с учетом следующего (состояния, действия), если игра не завершена\n",
    "                next_act = np.argmax(Q[next_state]) # жадно выбираем следующее действие\n",
    "                td_target = reward + gamma * Q[next_state][next_act]\n",
    "                td_error = td_target - Q[curr_state][curr_act]\n",
    "                Q[curr_state][curr_act] = Q[curr_state][curr_act] + alpha * td_error\n",
    "                curr_state = next_state\n",
    "            if done: # Обновляем функцию Q только с учетом награды, если игра завершена\n",
    "                td_error = reward - Q[curr_state][curr_act]\n",
    "                Q[curr_state][curr_act] = Q[curr_state][curr_act] + alpha * td_error\n",
    "                break\n",
    "            \n",
    "    return Q, create_epsilon_greedy_action_policy(env,Q,eps)"
   ]
  },
  {
   "cell_type": "code",
   "execution_count": 115,
   "metadata": {},
   "outputs": [
    {
     "name": "stdout",
     "output_type": "stream",
     "text": [
      "\r",
      "Episode 1000000/1000000."
     ]
    }
   ],
   "source": [
    "env = gym.make('Blackjack-v0')\n",
    "env.reset()\n",
    "Q_QLearn,QLearn_Policy = off_pol_TD_Q_learn(env, 1000000, 0.01, 0.1,0.95)"
   ]
  },
  {
   "cell_type": "code",
   "execution_count": 116,
   "metadata": {},
   "outputs": [
    {
     "data": {
      "image/png": "[encoded data removed]",
      "text/plain": [
       "<Figure size 432x288 with 1 Axes>"
      ]
     },
     "metadata": {
      "needs_background": "light"
     },
     "output_type": "display_data"
    },
    {
     "name": "stdout",
     "output_type": "stream",
     "text": [
      "Average payout of a player after 100000 rounds is -0.05946940530594694\n"
     ]
    }
   ],
   "source": [
    "env.reset()\n",
    "calc_payoffs(env,100000,QLearn_Policy)"
   ]
  },
  {
   "cell_type": "markdown",
   "metadata": {},
   "source": [
    "## В среднем Q-Learning: off-policy TD Control стратегия дает проигрыш 6%, то есть казино примерно в 1,2 раза чаще выгрывает, чем стратегия выигрывает или играет в ничью. "
   ]
  },
  {
   "cell_type": "markdown",
   "metadata": {},
   "source": [
    "## II. Реализуйте новый вариант блекджека на основе окружения Blackjack-v0 из OpenAI Gym, в котором разрешено удвоение ставки."
   ]
  },
  {
   "cell_type": "code",
   "execution_count": 284,
   "metadata": {},
   "outputs": [],
   "source": [
    "from gym import spaces\n",
    "from gym.utils import seeding\n",
    "\n",
    "def cmp(a, b):\n",
    "    return float(a > b) - float(a < b)\n",
    "\n",
    "# 1 = Ace, 2-10 = Number cards, Jack/Queen/King = 10\n",
    "deck = [1, 2, 3, 4, 5, 6, 7, 8, 9, 10, 10, 10, 10]\n",
    "\n",
    "\n",
    "def draw_card(np_random):\n",
    "    return int(np_random.choice(deck))\n",
    "\n",
    "\n",
    "def draw_hand(np_random):\n",
    "    return [draw_card(np_random), draw_card(np_random)]\n",
    "\n",
    "\n",
    "def usable_ace(hand):  # Does this hand have a usable ace?\n",
    "    return 1 in hand and sum(hand) + 10 <= 21\n",
    "\n",
    "\n",
    "def sum_hand(hand):  # Return current hand total\n",
    "    if usable_ace(hand):\n",
    "        return sum(hand) + 10\n",
    "    return sum(hand)\n",
    "\n",
    "\n",
    "def is_bust(hand):  # Is this hand a bust?\n",
    "    return sum_hand(hand) > 21\n",
    "\n",
    "\n",
    "def score(hand):  # What is the score of this hand (0 if bust)\n",
    "    return 0 if is_bust(hand) else sum_hand(hand)\n",
    "\n",
    "\n",
    "def is_natural(hand):  # Is this hand a natural blackjack?\n",
    "    return sorted(hand) == [1, 10]\n",
    "\n",
    "\n",
    "class BlackjackEnv(gym.Env):\n",
    "    \"\"\"Simple blackjack environment\n",
    "    Blackjack is a card game where the goal is to obtain cards that sum to as\n",
    "    near as possible to 21 without going over.  They're playing against a fixed\n",
    "    dealer.\n",
    "    Face cards (Jack, Queen, King) have point value 10.\n",
    "    Aces can either count as 11 or 1, and it's called 'usable' at 11.\n",
    "    This game is placed with an infinite deck (or with replacement).\n",
    "    The game starts with dealer having one face up and one face down card, while\n",
    "    player having two face up cards. (Virtually for all Blackjack games today).\n",
    "    The player can request additional cards (hit=1) until they decide to stop\n",
    "    (stick=0) or exceed 21 (bust).\n",
    "    After the player sticks, the dealer reveals their facedown card, and draws\n",
    "    until their sum is 17 or greater.  If the dealer goes bust the player wins.\n",
    "    If neither player nor dealer busts, the outcome (win, lose, draw) is\n",
    "    decided by whose sum is closer to 21.  The reward for winning is +1,\n",
    "    drawing is 0, and losing is -1.\n",
    "    The observation of a 3-tuple of: the players current sum,\n",
    "    the dealer's one showing card (1-10 where 1 is ace),\n",
    "    and whether or not the player holds a usable ace (0 or 1).\n",
    "    This environment corresponds to the version of the blackjack problem\n",
    "    described in Example 5.1 in Reinforcement Learning: An Introduction\n",
    "    by Sutton and Barto.\n",
    "    http://incompleteideas.net/book/the-book-2nd.html\n",
    "    \"\"\"\n",
    "    def __init__(self, natural=False):\n",
    "        self.action_space = spaces.Discrete(3) # Добавим третье действие\n",
    "        self.observation_space = spaces.Tuple((\n",
    "            spaces.Discrete(32),\n",
    "            spaces.Discrete(11),\n",
    "            spaces.Discrete(3)))\n",
    "        self.seed()\n",
    "\n",
    "        # Flag to payout 1.5 on a \"natural\" blackjack win, like casino rules\n",
    "        # Ref: http://www.bicyclecards.com/how-to-play/blackjack/\n",
    "        self.natural = natural\n",
    "        # Start the first game\n",
    "        self.reset()\n",
    "\n",
    "    def seed(self, seed=None):\n",
    "        self.np_random, seed = seeding.np_random(seed)\n",
    "        return [seed]\n",
    "\n",
    "    def step(self, action):\n",
    "        assert self.action_space.contains(action)\n",
    "        if action == 1:  # hit: add a card to players hand and return\n",
    "            self.player.append(draw_card(self.np_random))\n",
    "            if is_bust(self.player):\n",
    "                done = True\n",
    "                reward = -1.\n",
    "            else:\n",
    "                done = False\n",
    "                reward = 0.\n",
    "        elif action == 0:  # stick: play out the dealers hand, and score\n",
    "            done = True\n",
    "            while sum_hand(self.dealer) < 17:\n",
    "                self.dealer.append(draw_card(self.np_random))\n",
    "            reward = cmp(score(self.player), score(self.dealer))\n",
    "            if self.natural and is_natural(self.player) and reward == 1.:\n",
    "                reward = 1.5\n",
    "        elif action == 2:  # Удвоение: попросить у диллера карту и удвоить награду/проигрыш\n",
    "            self.player.append(draw_card(self.np_random))\n",
    "            done = True\n",
    "            while sum_hand(self.dealer) < 17:\n",
    "                self.dealer.append(draw_card(self.np_random))\n",
    "            reward = cmp(score(self.player), score(self.dealer))\n",
    "            if self.natural and is_natural(self.player) and reward == 1.:\n",
    "                reward = 1.5\n",
    "            reward *= 2 # удвоение награды\n",
    "        return self._get_obs(), reward, done, {}\n",
    "\n",
    "    def _get_obs(self):\n",
    "        return (sum_hand(self.player), self.dealer[0], usable_ace(self.player))\n",
    "\n",
    "    def reset(self):\n",
    "        self.dealer = draw_hand(self.np_random)\n",
    "        self.player = draw_hand(self.np_random)\n",
    "        return self._get_obs()\n",
    "    \n",
    "    def show_cards(self):\n",
    "        return self.player"
   ]
  },
  {
   "cell_type": "code",
   "execution_count": 126,
   "metadata": {},
   "outputs": [
    {
     "data": {
      "image/png": "[encoded data removed]",
      "text/plain": [
       "<Figure size 432x288 with 1 Axes>"
      ]
     },
     "metadata": {
      "needs_background": "light"
     },
     "output_type": "display_data"
    },
    {
     "name": "stdout",
     "output_type": "stream",
     "text": [
      "Average payout of a player after 100000 rounds is -0.008379916200837991\n"
     ]
    }
   ],
   "source": [
    "env = BlackjackEnv(True)\n",
    "env.reset()\n",
    "rand = create_random_policy(env.action_space.n)\n",
    "Q_off_Pol,off_MC_Learned_Policy = Off_pol_mc_control_learn(env, 1000000, rand,0.9)\n",
    "env.reset()\n",
    "calc_payoffs(env,100000,off_MC_Learned_Policy)"
   ]
  },
  {
   "cell_type": "markdown",
   "metadata": {},
   "source": [
    "## В среднем off-policy Monte Carlo Control стратегия с удвоением дает проигрыш 0,8%, то есть почти в ничью"
   ]
  },
  {
   "cell_type": "code",
   "execution_count": 127,
   "metadata": {},
   "outputs": [
    {
     "data": {
      "image/png": "[encoded data removed]",
      "text/plain": [
       "<Figure size 432x288 with 1 Axes>"
      ]
     },
     "metadata": {
      "needs_background": "light"
     },
     "output_type": "display_data"
    },
    {
     "name": "stdout",
     "output_type": "stream",
     "text": [
      "Average payout of a player after 100000 rounds is -0.017734822651773483\n"
     ]
    }
   ],
   "source": [
    "env = BlackjackEnv(True)\n",
    "env.reset()\n",
    "Q_on_pol,On_MC_Learned_Policy = On_pol_mc_control_learn(env, 1000000, 0.9, 0.05)\n",
    "env.reset()\n",
    "calc_payoffs(env,100000,On_MC_Learned_Policy)"
   ]
  },
  {
   "cell_type": "markdown",
   "metadata": {},
   "source": [
    "## В среднем on-policy Monte Carlo Control стратегия с удвоением дает проигрыш 1,7%"
   ]
  },
  {
   "cell_type": "code",
   "execution_count": 128,
   "metadata": {},
   "outputs": [
    {
     "data": {
      "image/png": "[encoded data removed]",
      "text/plain": [
       "<Figure size 432x288 with 1 Axes>"
      ]
     },
     "metadata": {
      "needs_background": "light"
     },
     "output_type": "display_data"
    },
    {
     "name": "stdout",
     "output_type": "stream",
     "text": [
      "Average payout of a player after 100000 rounds is -0.032529674703252964\n"
     ]
    }
   ],
   "source": [
    "env = BlackjackEnv(True)\n",
    "env.reset()\n",
    "Q_SARSA,SARSA_Policy = SARSA(env, 1000000, 0.01, 0.009,1)\n",
    "env.reset()\n",
    "calc_payoffs(env,100000,SARSA_Policy)"
   ]
  },
  {
   "cell_type": "markdown",
   "metadata": {},
   "source": [
    "## В среднем SARSA: on-policy TD Control стратегия с удвоением дает проигрыш 3%"
   ]
  },
  {
   "cell_type": "code",
   "execution_count": 129,
   "metadata": {},
   "outputs": [
    {
     "data": {
      "image/png": "[encoded data removed]",
      "text/plain": [
       "<Figure size 432x288 with 1 Axes>"
      ]
     },
     "metadata": {
      "needs_background": "light"
     },
     "output_type": "display_data"
    },
    {
     "name": "stdout",
     "output_type": "stream",
     "text": [
      "Average payout of a player after 100000 rounds is -0.04821951780482195\n"
     ]
    }
   ],
   "source": [
    "env = BlackjackEnv(True)\n",
    "env.reset()\n",
    "Q_QLearn,QLearn_Policy = off_pol_TD_Q_learn(env, 1000000, 0.01, 0.1,0.95)\n",
    "env.reset()\n",
    "calc_payoffs(env,100000,QLearn_Policy)"
   ]
  },
  {
   "cell_type": "markdown",
   "metadata": {},
   "source": [
    "## В среднем Q-Learning: off-policy TD Control стратегия с удвоением дает проигрыш 5%"
   ]
  },
  {
   "cell_type": "markdown",
   "metadata": {},
   "source": [
    "## III.I Реализуйте вариант окружения Blackjack-v0 из предыдущей части (с удвоением), в котором игрок имеет возможность “считать карты” в колоде. Это можно сделать разными способами; возможно, вам поможет статья википедии о блекджеке (а возможно, и нет). Давайте для определённости считать, что наше казино будет перемешивать колоду, в которой осталось меньше 15 карт. Система подсчета \"Плюс-минус\""
   ]
  },
  {
   "cell_type": "code",
   "execution_count": 234,
   "metadata": {},
   "outputs": [],
   "source": [
    "class BlackjackEnvCardsAmount(gym.Env):\n",
    "    def __init__(self, natural=False):\n",
    "        self.action_space = spaces.Discrete(3) # Добавим третье действие\n",
    "        self.observation_space = spaces.Tuple((\n",
    "            spaces.Discrete(32),\n",
    "            spaces.Discrete(11),\n",
    "            spaces.Discrete(3)))\n",
    "        self.seed()\n",
    "        # Flag to payout 1.5 on a \"natural\" blackjack win, like casino rules\n",
    "        # Ref: http://www.bicyclecards.com/how-to-play/blackjack/\n",
    "        self.natural = natural\n",
    "        self.const_deck = [1, 2, 3, 4, 5, 6, 7, 8, 9, 10, 10, 10, 10]\n",
    "        self.deck = self.const_deck*4\n",
    "        self.plus_minus = {2: 1, 3: 1, 4: 1, 5: 1, 6: 1,\n",
    "                           7: 0, 8: 0, 9: 0, 10: -1, 1: -1} # словарь для подсчета карт в колоде\n",
    "        \n",
    "\n",
    "    def seed(self, seed=None):\n",
    "        self.np_random, seed = seeding.np_random(seed)\n",
    "        return [seed]\n",
    "    \n",
    "    def cards_count(self, deck):\n",
    "        return len(deck)\n",
    "\n",
    "    def step(self, action):\n",
    "        assert self.action_space.contains(action)\n",
    "        if action == 1:  # hit: add a card to players hand and return\n",
    "            self.player.append(self.draw_card(self.np_random))\n",
    "            if is_bust(self.player):\n",
    "                done = True\n",
    "                reward = -1.\n",
    "            else:\n",
    "                done = False\n",
    "                reward = 0.\n",
    "        elif action == 0:  # stick: play out the dealers hand, and score\n",
    "            done = True\n",
    "            while sum_hand(self.dealer) < 17:\n",
    "                self.dealer.append(self.draw_card(self.np_random))\n",
    "            reward = cmp(score(self.player), score(self.dealer))\n",
    "            if self.natural and is_natural(self.player) and reward == 1.:\n",
    "                reward = 1.5\n",
    "        elif action == 2:  # Удвоение: попросить у диллера карту и удвоить награду/проигрыш\n",
    "            self.player.append(self.draw_card(self.np_random))\n",
    "            done = True\n",
    "            while sum_hand(self.dealer) < 17:\n",
    "                self.dealer.append(self.draw_card(self.np_random))\n",
    "            reward = cmp(score(self.player), score(self.dealer))\n",
    "            if self.natural and is_natural(self.player) and reward == 1.:\n",
    "                reward = 1.5\n",
    "            reward *= 2\n",
    "        return self._get_obs(), reward, done, {}\n",
    "\n",
    "    def _get_obs(self):\n",
    "        return (sum_hand(self.player), self.dealer[0], usable_ace(self.player)\n",
    "                , np.sum([plus_minus[card] for card in self.deck])) # добавим расчет карт в колоде\n",
    "\n",
    "    def reset(self):\n",
    "        self.dealer = self.draw_hand(self.np_random)\n",
    "        self.player = self.draw_hand(self.np_random)\n",
    "        \n",
    "        if self.cards_count(self.deck) <= 15: # берем новую колоду, если осталось менее 15 карт в колоде\n",
    "            self.deck = self.const_deck*4\n",
    "        return self._get_obs()\n",
    "    \n",
    "    def draw_card(self, np_random):\n",
    "        card = int(np_random.choice(self.deck))\n",
    "        self.deck.remove(card) # удаляем карты при раздаче\n",
    "        return card\n",
    "    \n",
    "    \n",
    "    def draw_hand(self, np_random):\n",
    "        return [self.draw_card(np_random), self.draw_card(np_random)]\n",
    "    \n",
    "    def show_cards(self):\n",
    "        return self.player"
   ]
  },
  {
   "cell_type": "code",
   "execution_count": 254,
   "metadata": {},
   "outputs": [
    {
     "data": {
      "image/png": "[encoded data removed]",
      "text/plain": [
       "<Figure size 432x288 with 1 Axes>"
      ]
     },
     "metadata": {
      "needs_background": "light"
     },
     "output_type": "display_data"
    },
    {
     "name": "stdout",
     "output_type": "stream",
     "text": [
      "Average payout of a player after 100000 rounds is -3.999960000399996e-05\n"
     ]
    }
   ],
   "source": [
    "enw_new = BlackjackEnvCardsAmount(True)\n",
    "enw_new.reset()\n",
    "Q_on_pol,On_MC_Learned_Policy = On_pol_mc_control_learn(enw_new, 10000000, 0.9, 0.05)\n",
    "enw_new.reset() \n",
    "calc_payoffs(enw_new,100000,On_MC_Learned_Policy)"
   ]
  },
  {
   "cell_type": "markdown",
   "metadata": {},
   "source": [
    "## В среднем on-policy Monte Carlo Control стратегия с удвоением и подсчетом карт играет в ноль"
   ]
  },
  {
   "cell_type": "code",
   "execution_count": 259,
   "metadata": {},
   "outputs": [
    {
     "data": {
      "image/png": "[encoded data removed]",
      "text/plain": [
       "<Figure size 432x288 with 1 Axes>"
      ]
     },
     "metadata": {
      "needs_background": "light"
     },
     "output_type": "display_data"
    },
    {
     "name": "stdout",
     "output_type": "stream",
     "text": [
      "Average payout of a player after 100000 rounds is 0.006229937700622994\n"
     ]
    }
   ],
   "source": [
    "enw_new = BlackjackEnvCardsAmount(True)\n",
    "enw_new.reset()\n",
    "Q_off_Pol,off_MC_Learned_Policy = Off_pol_mc_control_learn(enw_new, 10000000, rand,0.9)\n",
    "enw_new.reset()\n",
    "calc_payoffs(enw_new,100000,off_MC_Learned_Policy)"
   ]
  },
  {
   "cell_type": "markdown",
   "metadata": {},
   "source": [
    "## В среднем off-policy Monte Carlo Control стратегия с удвоением и подсчетом карт дает проигрыш 0,6%, то есть почти в ничью"
   ]
  },
  {
   "cell_type": "code",
   "execution_count": 268,
   "metadata": {},
   "outputs": [
    {
     "data": {
      "image/png": "[encoded data removed]",
      "text/plain": [
       "<Figure size 432x288 with 1 Axes>"
      ]
     },
     "metadata": {
      "needs_background": "light"
     },
     "output_type": "display_data"
    },
    {
     "name": "stdout",
     "output_type": "stream",
     "text": [
      "Average payout of a player after 100000 rounds is -0.01856981430185698\n"
     ]
    }
   ],
   "source": [
    "enw_new = BlackjackEnvCardsAmount(True)\n",
    "enw_new.reset()\n",
    "Q_SARSA,SARSA_Policy = SARSA(enw_new, 10000000, 0.01, 0.009,1)\n",
    "enw_new.reset() \n",
    "calc_payoffs(enw_new,100000,SARSA_Policy)"
   ]
  },
  {
   "cell_type": "markdown",
   "metadata": {},
   "source": [
    "## В среднем SARSA: on-policy TD Control стратегия с удвоением и подсчетом карт дает проигрыш 1,8%"
   ]
  },
  {
   "cell_type": "code",
   "execution_count": 269,
   "metadata": {},
   "outputs": [
    {
     "data": {
      "image/png": "[encoded data removed]",
      "text/plain": [
       "<Figure size 432x288 with 1 Axes>"
      ]
     },
     "metadata": {
      "needs_background": "light"
     },
     "output_type": "display_data"
    },
    {
     "name": "stdout",
     "output_type": "stream",
     "text": [
      "Average payout of a player after 100000 rounds is -0.041859581404185955\n"
     ]
    }
   ],
   "source": [
    "enw_new = BlackjackEnvCardsAmount(True)\n",
    "enw_new.reset()\n",
    "Q_QLearn,QLearn_Policy = off_pol_TD_Q_learn(enw_new, 10000000, 0.01, 0.1,0.95)\n",
    "enw_new.reset() \n",
    "calc_payoffs(enw_new,100000,QLearn_Policy)"
   ]
  },
  {
   "cell_type": "markdown",
   "metadata": {},
   "source": [
    "## В среднем Q-Learning: off-policy TD Control стратегия с удвоением и подсчетом карт дает проигрыш 4%"
   ]
  },
  {
   "cell_type": "markdown",
   "metadata": {},
   "source": [
    "## III.II Реализуйте вариант окружения Blackjack-v0 из предыдущей части (с удвоением), в котором игрок имеет возможность “считать карты” в колоде. Это можно сделать разными способами; возможно, вам поможет статья википедии о блекджеке (а возможно, и нет). Давайте для определённости считать, что наше казино будет перемешивать колоду, в которой осталось меньше 15 карт. Система подсчета \"Половинки\""
   ]
  },
  {
   "cell_type": "code",
   "execution_count": 257,
   "metadata": {},
   "outputs": [],
   "source": [
    "class BlackjackEnvHalf(gym.Env):\n",
    "    def __init__(self, natural=False):\n",
    "        self.action_space = spaces.Discrete(3)\n",
    "        self.observation_space = spaces.Tuple((\n",
    "            spaces.Discrete(32),\n",
    "            spaces.Discrete(11),\n",
    "            spaces.Discrete(3)))\n",
    "        self.seed()\n",
    "        # Flag to payout 1.5 on a \"natural\" blackjack win, like casino rules\n",
    "        # Ref: http://www.bicyclecards.com/how-to-play/blackjack/\n",
    "        self.natural = natural\n",
    "        self.const_deck = [1, 2, 3, 4, 5, 6, 7, 8, 9, 10, 10, 10, 10]\n",
    "        self.deck = self.const_deck*4\n",
    "        self.plus_minus = {2: 0.5, 3: 1, 4: 1, 5: 1.5, 6: 1,\n",
    "                           7: 0.5, 8: 0, 9: -0.5, 10: -1, 1: -1}\n",
    "\n",
    "        # Start the first game\n",
    "        #self.reset()\n",
    "        \n",
    "\n",
    "    def seed(self, seed=None):\n",
    "        self.np_random, seed = seeding.np_random(seed)\n",
    "        return [seed]\n",
    "    \n",
    "    def cards_count(self, deck):\n",
    "        return len(deck)\n",
    "\n",
    "    def step(self, action):\n",
    "        assert self.action_space.contains(action)\n",
    "        if action == 1:  # hit: add a card to players hand and return\n",
    "            self.player.append(self.draw_card(self.np_random))\n",
    "            if is_bust(self.player):\n",
    "                done = True\n",
    "                reward = -1.\n",
    "            else:\n",
    "                done = False\n",
    "                reward = 0.\n",
    "        elif action == 0:  # stick: play out the dealers hand, and score\n",
    "            done = True\n",
    "            while sum_hand(self.dealer) < 17:\n",
    "                self.dealer.append(self.draw_card(self.np_random))\n",
    "            reward = cmp(score(self.player), score(self.dealer))\n",
    "            if self.natural and is_natural(self.player) and reward == 1.:\n",
    "                reward = 1.5\n",
    "        elif action == 2:  # double: draw a card and call for a dealer with a doubled reward\n",
    "            self.player.append(self.draw_card(self.np_random))\n",
    "            done = True\n",
    "            while sum_hand(self.dealer) < 17:\n",
    "                self.dealer.append(self.draw_card(self.np_random))\n",
    "            reward = cmp(score(self.player), score(self.dealer))\n",
    "            if self.natural and is_natural(self.player) and reward == 1.:\n",
    "                reward = 1.5\n",
    "            reward *= 2\n",
    "        return self._get_obs(), reward, done, {}\n",
    "\n",
    "    def _get_obs(self):\n",
    "        return (sum_hand(self.player), self.dealer[0], usable_ace(self.player)\n",
    "                , np.sum([plus_minus[card] for card in self.deck]))\n",
    "\n",
    "    def reset(self):\n",
    "        self.dealer = self.draw_hand(self.np_random)\n",
    "        self.player = self.draw_hand(self.np_random)\n",
    "        \n",
    "        if self.cards_count(self.deck) <= 15:\n",
    "            self.deck = self.const_deck*4\n",
    "        return self._get_obs()\n",
    "    \n",
    "    def draw_card(self, np_random):\n",
    "        card = int(np_random.choice(self.deck))\n",
    "        self.deck.remove(card)\n",
    "        return card\n",
    "    \n",
    "    \n",
    "    def draw_hand(self, np_random):\n",
    "        return [self.draw_card(np_random), self.draw_card(np_random)]\n",
    "    \n",
    "    def show_cards(self):\n",
    "        return self.player"
   ]
  },
  {
   "cell_type": "code",
   "execution_count": 260,
   "metadata": {},
   "outputs": [
    {
     "data": {
      "image/png": "[encoded data removed]",
      "text/plain": [
       "<Figure size 432x288 with 1 Axes>"
      ]
     },
     "metadata": {
      "needs_background": "light"
     },
     "output_type": "display_data"
    },
    {
     "name": "stdout",
     "output_type": "stream",
     "text": [
      "Average payout of a player after 100000 rounds is 0.0028099719002809974\n"
     ]
    }
   ],
   "source": [
    "enw_new = BlackjackEnvHalf(True)\n",
    "enw_new.reset()\n",
    "Q_off_Pol,off_MC_Learned_Policy = Off_pol_mc_control_learn(enw_new, 10000000, rand,0.9)\n",
    "enw_new.reset()\n",
    "calc_payoffs(enw_new,100000,off_MC_Learned_Policy)"
   ]
  },
  {
   "cell_type": "markdown",
   "metadata": {},
   "source": [
    "## В среднем off-policy Monte Carlo Control стратегия с удвоением и подсчетом карт дает проигрыш 0,2%, то есть почти в ничью"
   ]
  },
  {
   "cell_type": "code",
   "execution_count": 261,
   "metadata": {},
   "outputs": [
    {
     "data": {
      "image/png": "[encoded data removed]",
      "text/plain": [
       "<Figure size 432x288 with 1 Axes>"
      ]
     },
     "metadata": {
      "needs_background": "light"
     },
     "output_type": "display_data"
    },
    {
     "name": "stdout",
     "output_type": "stream",
     "text": [
      "Average payout of a player after 100000 rounds is -0.004914950850491495\n"
     ]
    }
   ],
   "source": [
    "enw_new = BlackjackEnvHalf(True)\n",
    "enw_new.reset()\n",
    "Q_on_pol,On_MC_Learned_Policy = On_pol_mc_control_learn(enw_new, 10000000, 0.9, 0.05)\n",
    "enw_new.reset() \n",
    "calc_payoffs(enw_new,100000,On_MC_Learned_Policy)"
   ]
  },
  {
   "cell_type": "markdown",
   "metadata": {},
   "source": [
    "## В среднем on-policy Monte Carlo Control стратегия с удвоением и подсчетом карт дает проигрыш 0,5%, то есть почти в ничью"
   ]
  },
  {
   "cell_type": "code",
   "execution_count": 266,
   "metadata": {},
   "outputs": [
    {
     "data": {
      "image/png": "[encoded data removed]",
      "text/plain": [
       "<Figure size 432x288 with 1 Axes>"
      ]
     },
     "metadata": {
      "needs_background": "light"
     },
     "output_type": "display_data"
    },
    {
     "name": "stdout",
     "output_type": "stream",
     "text": [
      "Average payout of a player after 100000 rounds is -0.017644823551764482\n"
     ]
    }
   ],
   "source": [
    "enw_new = BlackjackEnvHalf(True)\n",
    "enw_new.reset()\n",
    "Q_SARSA,SARSA_Policy = SARSA(enw_new, 10000000, 0.01, 0.009,1)\n",
    "enw_new.reset() \n",
    "calc_payoffs(enw_new,100000,SARSA_Policy)"
   ]
  },
  {
   "cell_type": "markdown",
   "metadata": {},
   "source": [
    "## В среднем SARSA: on-policy TD Control стратегия с удвоением и подсчетом карт дает проигрыш 1,7%"
   ]
  },
  {
   "cell_type": "code",
   "execution_count": 267,
   "metadata": {},
   "outputs": [
    {
     "data": {
      "image/png": "[encoded data removed]",
      "text/plain": [
       "<Figure size 432x288 with 1 Axes>"
      ]
     },
     "metadata": {
      "needs_background": "light"
     },
     "output_type": "display_data"
    },
    {
     "name": "stdout",
     "output_type": "stream",
     "text": [
      "Average payout of a player after 100000 rounds is -0.038224617753822465\n"
     ]
    }
   ],
   "source": [
    "enw_new = BlackjackEnvHalf(True)\n",
    "enw_new.reset()\n",
    "Q_QLearn,QLearn_Policy = off_pol_TD_Q_learn(enw_new, 10000000, 0.01, 0.1,0.95)\n",
    "enw_new.reset() \n",
    "calc_payoffs(enw_new,100000,QLearn_Policy)"
   ]
  },
  {
   "cell_type": "markdown",
   "metadata": {},
   "source": [
    "## В среднем Q-Learning: off-policy TD Control стратегия с удвоением и подсчетом карт дает проигрыш 3,8%"
   ]
  },
  {
   "cell_type": "markdown",
   "metadata": {},
   "source": [
    "## Лучшего результата получилось добиться с on-policy Monte Carlo Control стратегией с удвоением и подсчетом карт, которая играет в ноль с казино"
   ]
  }
 ],
 "metadata": {
  "kernelspec": {
   "display_name": "Python 3",
   "language": "python",
   "name": "python3"
  },
  "language_info": {
   "codemirror_mode": {
    "name": "ipython",
    "version": 3
   },
   "file_extension": ".py",
   "mimetype": "text/x-python",
   "name": "python",
   "nbconvert_exporter": "python",
   "pygments_lexer": "ipython3",
   "version": "3.7.6"
  }
 },
 "nbformat": 4,
 "nbformat_minor": 4
}
